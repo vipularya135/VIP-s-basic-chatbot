{
  "nbformat": 4,
  "nbformat_minor": 0,
  "metadata": {
    "colab": {
      "provenance": []
    },
    "kernelspec": {
      "name": "python3",
      "display_name": "Python 3"
    },
    "language_info": {
      "name": "python"
    }
  },
  "cells": [
    {
      "cell_type": "markdown",
      "source": [
        "VIP's ChatBot - Basic Implementation using python"
      ],
      "metadata": {
        "id": "x7RvfcYYIF_P"
      }
    },
    {
      "cell_type": "code",
      "source": [
        "#import the packages\n",
        "from newspaper import Article\n",
        "import random\n",
        "import string\n",
        "import numpy as np\n",
        "import warnings\n",
        "import nltk\n",
        "from sklearn.feature_extraction.text import TfidfVectorizer\n",
        "from sklearn.metrics.pairwise import cosine_similarity"
      ],
      "metadata": {
        "id": "1JhBgLR3rYuZ"
      },
      "execution_count": 3,
      "outputs": []
    },
    {
      "cell_type": "code",
      "source": [
        "#ignore the warnings\n",
        "warnings.filterwarnings('ignore')"
      ],
      "metadata": {
        "id": "eQ9aCLAXrYx5"
      },
      "execution_count": 4,
      "outputs": []
    },
    {
      "cell_type": "code",
      "source": [
        "#download package from nltk\n",
        "nltk.download('punkt',quiet=True)\n",
        "nltk.download('wordnet',quiet=True)"
      ],
      "metadata": {
        "colab": {
          "base_uri": "https://localhost:8080/"
        },
        "id": "i1BKBdMyrY0U",
        "outputId": "cacaaebe-a220-4a6f-9827-01edf4eba6da"
      },
      "execution_count": 5,
      "outputs": [
        {
          "output_type": "execute_result",
          "data": {
            "text/plain": [
              "True"
            ]
          },
          "metadata": {},
          "execution_count": 5
        }
      ]
    },
    {
      "cell_type": "code",
      "source": [
        "f = open('/content/data.txt', 'r', errors='ignore')\n",
        "raw_doc = f.read()"
      ],
      "metadata": {
        "id": "CvUdv4rZrY39"
      },
      "execution_count": 18,
      "outputs": []
    },
    {
      "cell_type": "code",
      "source": [
        "nltk.download('punkt')\n",
        "nltk.download('wordnet')\n",
        "nltk.download('omw-1.4')\n",
        "#tokenization\n",
        "text=raw_doc\n",
        "sent_tokens=nltk.sent_tokenize(text)\n",
        "print(sent_tokens)\n"
      ],
      "metadata": {
        "colab": {
          "base_uri": "https://localhost:8080/"
        },
        "id": "q-03S8mZrY66",
        "outputId": "fec3d708-102a-4045-f0ab-eb0b06b71719"
      },
      "execution_count": 19,
      "outputs": [
        {
          "output_type": "stream",
          "name": "stderr",
          "text": [
            "[nltk_data] Downloading package punkt to /root/nltk_data...\n",
            "[nltk_data]   Package punkt is already up-to-date!\n",
            "[nltk_data] Downloading package wordnet to /root/nltk_data...\n",
            "[nltk_data]   Package wordnet is already up-to-date!\n",
            "[nltk_data] Downloading package omw-1.4 to /root/nltk_data...\n"
          ]
        },
        {
          "output_type": "stream",
          "name": "stdout",
          "text": [
            "['RV University is a state-private university located in Bangalore, Karnataka, India.', '[8] RV University (RVU) has been established in 2021 and is governed by the RV University Act of 2019, it is notified by Government of Karnataka.', '[9]\\n\\nAffiliation\\nLike all universities in India, RV University, Bangalore is recognised by the University Grants Commission (UGC).', '[10][11]\\n\\nHistory\\nRV University is a state-private university established under the RV University Act 2019 and is approved by UGC (University Grants Commission) and Karnataka State Government.', '[12] RV University promoted by the Rashtreeya Sikshana Samithi Trust[13] is a trust managing RV Educational Institutions in Bangalore, Karnataka, India.', 'RV University is one of the parent institutes which come under Rashtreeya Sikshana Samithi Trust which also manages RV College of Engineering.', 'Academics\\nRV University conducts various educational programmes at the undergraduate, postgraduate and PhD levels.There are various programs under the following disciplines.', '[14][15][16]\\n\\nSchool of Liberal Arts and Sciences\\nSchool of Design and Innovation\\nSchool of Film, Media and Creative Arts\\nSchool of Computer Science and Engineering\\nSchool of Economics\\nSchool of Business\\nSchool of Law[17]\\n\\nAdmission\\nRVU admits students based on RVSAT (RV Scholastic Admission Test is the national-level entrance exam) and RVU Selection Process for all UG, PG and PhD Programmes[18] of RV University.', 'RVU admits 40% of undergraduate engineering students based on their Karnataka CET ranks.', 'Also RVU admits students under a management quota.', 'Schools\\nSchools and Departments\\tStudents\\nRVU School of Computer Science and Engineering (SoCSE)[19]\\nDepartment of Computer Science and Engineering\\n540\\nCampus\\nRV University, RV Vidyanikethan Post, 8th Mile, Mysuru Road, Bengaluru - 560 059\\nStudy at the Best University in Bangalore\\nEquipped with 8 decades of rich legacy of RVEI, RV University is a top university in India that imparts high quality, interdisciplinary education at an affordable cost.', 'World-Class Faculty\\nOutstanding and highly\\nqualified faculty members\\nwith an excellent\\ncurriculum framed in\\nconsultation with top\\nacademics and industry\\nexperts.', 'Pioneering Research\\nAmple opportunity for students\\nto get involved in research\\nunder the guidance of experts.', 'They also get to use the latest\\nfacilities and tools to discover\\nand publish innovative\\nsolutions to complex problems.', 'Global Exposure\\nCollaborations with top\\nclass national and\\ninternational universities\\nto create learning\\nopportunities through\\ntransformative exchange\\nprogrammes.', 'Undergraduate Programmes\\nDiscover the diverse Undergraduate programmes offered at one of the best colleges in Bangalore that helps you strive and thrive in this ever-changing world.', 'View Courses \\n\\nPostgraduate Programmes\\nExplore the opportunities to pursue world-class postgraduate education at RVU to build a solid foundation.', 'View Courses \\n\\nPhD\\nLearn more about our diverse PhD programmes at RVU and gain a strong academic standing in your subject.', 'Award-Winning Faculty\\nRVU faculty members are highly accomplished individuals with outstanding track record in academics and research.', 'Their global exposure has contributed to the drafting of a sound syllabus and adoption of an innovative teaching pedagogy.', 'All faculty members are committed to providing every student with an impactful learning experience that equips them to excel in their studies.', 'Wishes to RVU from Eminent Personalities\\n\\nDr. Rajiv Kumar\\nVice Chairman,\\nNITI Aayog (National Institute for Transforming India)\\nGovernment of India\\n\\n“I am happy to note that RV University aspires to become a world class university with a strong commitment to academic excellence, research, internationalisation and community engagement.”\\n\\n\\nStudy in\\n\\n\\nThe multicultural population and progressive attitude of Bengaluru make it one of the most contemporary cities for young minds who hope to do things differently.', 'Come, discover what makes this city so special and enjoy the benefits during your study at RVU, one of the best colleges in Bengaluru.', 'Contact\\nFor general enquiry: enquiry@rvu.edu.in\\n\\nPhone: +91 95136 73778\\n\\nFor admissions: admissions@rvu.edu.in\\n\\nPhone: +91 89511 79896\\n\\nLocation: RV Vidyanikethan Post\\n8th Mile , Mysuru Road, Bengaluru - 560 059\\nAcademics\\nUndergraduate Programmes\\nPostgraduate Programmes\\nPhD Programmes\\nSchool of Liberal Arts and Sciences\\nSchool of Design and Innovation\\nSchool of Economics\\nSchool of Business\\nSchool of Law\\nSchool of Computer Science and Engineering\\n\\nOverview\\nBusiness administration deals with the management of an organization’s resources and time.', 'It plays a pivotal role in ensuring that an organization is run effectively and efficiently.', 'An effective business administration needs a combination of qualitative, quantitative, and soft skills as they deal with a plethora of problems.', 'The opportunity to deal with pertinent issues and contribute to practice drives the discipline.', 'Business administration as a discipline, is not bound by existing extant theory.', 'However, decisions need to be grounded in sound logic, which drives the need for a course in business administration.', 'A degree in business administration empowers a degree holder with a versatile outlook and surfeit of tools to solve a problem with ingenuity and aplomb.', 'Such a skill-set augurs well for the degree holder’s future and enables her/him to contribute to the organization and society positively.', 'THE SOB MODEL OF HOLISTIC EDUCATION\\nLearning at the School of Business at RV University focuses on holistic education that creates critical thinking individuals with strong disciplinary understanding, broad perspective of issues and problems gained through multiple lenses, and hands-on experiences and skills to take on challenges and solve problems at the workplace and in real life.', 'The School strives to provide a space where students are able to pursue their interests, satisfy their curiosities and excel in any field they choose.', 'To facilitate such an education, the curriculum at SOB balances theoretical courses with courses that are based on practical applications, skills, and experiential learning.', 'Students get the freedom to choose courses from within and outside of their disciplinary boundaries, and specialise in areas of their choice.', 'Students are encouraged to take up research, projects and self-study to stimulate their critical and analytical abilities and become independent thinkers and practitioners.', 'The faculty at SOB come with rich experience in teaching, research and work experience in different fields of knowledge and industries.', 'They bring in their insights from their own experiences into their teaching.', 'They are facilitators and mentors who help students to learn from, but think outside of textbooks.', 'Each student who enrols at SOB are unique in their potential, and the faculty are committed to recognize the uniqueness in each student and nurture them to grow to their full potential.', 'School of Computer Science\\nand Engineering\\nGain knowledge essential for getting a better understanding\\nof the real world and comprehend the complex issues\\nthat shape today’s global marketplace.', 'Home » School of Computer Science and Engineering\\n\\nOverview\\nThe School of Computer Science and Engineering (SoCSE) focuses on problem-solving, critical thinking, innovation, creativity, communication, entrepreneurship & data science to deal withVUCA (Volatility, Uncertainty, Complexity, and Ambiguity) world.', 'All programmes of the school offer an opportunity to the students to work closely with all stakeholders – industries, government policymakers, researchers, think tanks and global organisations.', 'USPs:\\n\\nFocussed on imparting 21st century skills through experiential, holistic learning rather than exam-oriented rote learning.', 'Guide on the Side model of pedagogy to build impressive portfolios.', 'Learn and Earn from 2nd Semester onwards – Portfolio Building.', 'Advisory Board with eminent academicians, industry leaders and entrepreneurs to drive the vision of the department.', 'Curriculum supports interdisciplinary studies with minors from other schools.', 'Curriculum includes internships and student exchange programs with foreign universities.', 'Teaching methodologies:\\n\\nWe at SoCSE follow a unique approach to teaching and learning focused on imparting 21st Century Skills to the students that is grounded in these core ideas:\\n\\nExperiential Learning: Activity based learning.', 'Asynchronous courses.', 'Interdisciplinary: Minor Courses from other Schools giving students the choice to pick up other life skills and pursue passions.', 'Holistic: Emphasis on life skills and self- wellbeing.', 'Community: Community based learning designed to set up students to be integrated into the community of their area of passion and interest and set the stage for life-long learning.', 'Learner Analytics: Focus on individual plans through portfolio building.', 'Mastery oriented evaluation.', 'These ideas are integrated seamlessly into our flexible curriculum where students can design their own curriculum based on their need and passion from a curated list of courses from four core competency areas:\\n\\n1.', 'Engineering Foundations: Engineering Exploration; Exploring Sciences;\\n\\n2.', 'Minors: Courses from School of Economics; School of Business; School of Design and Innovation; School of Liberal Arts & Sciences and School of Law.', '3.', 'Specialization and Electives: • AI, Machine Learning and Data Science • Full Stack Application Development in Cloud• Networks, IoT and Cybersecurity • Product Development/Research/Entrepreneurship • Metaverse, AR/VR and Gaming\\n\\n4.', 'Leadership Skills: • Entrepreneurship • Innovation • Management • Humanities']\n"
          ]
        }
      ]
    },
    {
      "cell_type": "code",
      "source": [
        "#creating a dictionary to remove the punctuation\n",
        "remove_punct_dict=dict( (ord(punct),None) for punct in string.punctuation)\n",
        "print(string.punctuation)\n",
        "print(remove_punct_dict)"
      ],
      "metadata": {
        "colab": {
          "base_uri": "https://localhost:8080/"
        },
        "id": "qo1rxzZTrY9g",
        "outputId": "c169b3da-8e61-46be-9f9d-ba9510cf86fa"
      },
      "execution_count": 20,
      "outputs": [
        {
          "output_type": "stream",
          "name": "stdout",
          "text": [
            "!\"#$%&'()*+,-./:;<=>?@[\\]^_`{|}~\n",
            "{33: None, 34: None, 35: None, 36: None, 37: None, 38: None, 39: None, 40: None, 41: None, 42: None, 43: None, 44: None, 45: None, 46: None, 47: None, 58: None, 59: None, 60: None, 61: None, 62: None, 63: None, 64: None, 91: None, 92: None, 93: None, 94: None, 95: None, 96: None, 123: None, 124: None, 125: None, 126: None}\n"
          ]
        }
      ]
    },
    {
      "cell_type": "code",
      "source": [
        "#create a function to return lower case words\n",
        "def LemNormalize(text):\n",
        "  return nltk.word_tokenize(text.lower().translate(remove_punct_dict))\n",
        "print(LemNormalize(text))"
      ],
      "metadata": {
        "colab": {
          "base_uri": "https://localhost:8080/"
        },
        "id": "Rw9AA2EJrZBJ",
        "outputId": "87ef9f3c-b092-4cf5-d73d-bf12df37b89d"
      },
      "execution_count": 21,
      "outputs": [
        {
          "output_type": "stream",
          "name": "stdout",
          "text": [
            "['rv', 'university', 'is', 'a', 'stateprivate', 'university', 'located', 'in', 'bangalore', 'karnataka', 'india8', 'rv', 'university', 'rvu', 'has', 'been', 'established', 'in', '2021', 'and', 'is', 'governed', 'by', 'the', 'rv', 'university', 'act', 'of', '2019', 'it', 'is', 'notified', 'by', 'government', 'of', 'karnataka9', 'affiliation', 'like', 'all', 'universities', 'in', 'india', 'rv', 'university', 'bangalore', 'is', 'recognised', 'by', 'the', 'university', 'grants', 'commission', 'ugc1011', 'history', 'rv', 'university', 'is', 'a', 'stateprivate', 'university', 'established', 'under', 'the', 'rv', 'university', 'act', '2019', 'and', 'is', 'approved', 'by', 'ugc', 'university', 'grants', 'commission', 'and', 'karnataka', 'state', 'government12', 'rv', 'university', 'promoted', 'by', 'the', 'rashtreeya', 'sikshana', 'samithi', 'trust13', 'is', 'a', 'trust', 'managing', 'rv', 'educational', 'institutions', 'in', 'bangalore', 'karnataka', 'india', 'rv', 'university', 'is', 'one', 'of', 'the', 'parent', 'institutes', 'which', 'come', 'under', 'rashtreeya', 'sikshana', 'samithi', 'trust', 'which', 'also', 'manages', 'rv', 'college', 'of', 'engineering', 'academics', 'rv', 'university', 'conducts', 'various', 'educational', 'programmes', 'at', 'the', 'undergraduate', 'postgraduate', 'and', 'phd', 'levelsthere', 'are', 'various', 'programs', 'under', 'the', 'following', 'disciplines141516', 'school', 'of', 'liberal', 'arts', 'and', 'sciences', 'school', 'of', 'design', 'and', 'innovation', 'school', 'of', 'film', 'media', 'and', 'creative', 'arts', 'school', 'of', 'computer', 'science', 'and', 'engineering', 'school', 'of', 'economics', 'school', 'of', 'business', 'school', 'of', 'law17', 'admission', 'rvu', 'admits', 'students', 'based', 'on', 'rvsat', 'rv', 'scholastic', 'admission', 'test', 'is', 'the', 'nationallevel', 'entrance', 'exam', 'and', 'rvu', 'selection', 'process', 'for', 'all', 'ug', 'pg', 'and', 'phd', 'programmes18', 'of', 'rv', 'university', 'rvu', 'admits', '40', 'of', 'undergraduate', 'engineering', 'students', 'based', 'on', 'their', 'karnataka', 'cet', 'ranks', 'also', 'rvu', 'admits', 'students', 'under', 'a', 'management', 'quota', 'schools', 'schools', 'and', 'departments', 'students', 'rvu', 'school', 'of', 'computer', 'science', 'and', 'engineering', 'socse19', 'department', 'of', 'computer', 'science', 'and', 'engineering', '540', 'campus', 'rv', 'university', 'rv', 'vidyanikethan', 'post', '8th', 'mile', 'mysuru', 'road', 'bengaluru', '560', '059', 'study', 'at', 'the', 'best', 'university', 'in', 'bangalore', 'equipped', 'with', '8', 'decades', 'of', 'rich', 'legacy', 'of', 'rvei', 'rv', 'university', 'is', 'a', 'top', 'university', 'in', 'india', 'that', 'imparts', 'high', 'quality', 'interdisciplinary', 'education', 'at', 'an', 'affordable', 'cost', 'worldclass', 'faculty', 'outstanding', 'and', 'highly', 'qualified', 'faculty', 'members', 'with', 'an', 'excellent', 'curriculum', 'framed', 'in', 'consultation', 'with', 'top', 'academics', 'and', 'industry', 'experts', 'pioneering', 'research', 'ample', 'opportunity', 'for', 'students', 'to', 'get', 'involved', 'in', 'research', 'under', 'the', 'guidance', 'of', 'experts', 'they', 'also', 'get', 'to', 'use', 'the', 'latest', 'facilities', 'and', 'tools', 'to', 'discover', 'and', 'publish', 'innovative', 'solutions', 'to', 'complex', 'problems', 'global', 'exposure', 'collaborations', 'with', 'top', 'class', 'national', 'and', 'international', 'universities', 'to', 'create', 'learning', 'opportunities', 'through', 'transformative', 'exchange', 'programmes', 'undergraduate', 'programmes', 'discover', 'the', 'diverse', 'undergraduate', 'programmes', 'offered', 'at', 'one', 'of', 'the', 'best', 'colleges', 'in', 'bangalore', 'that', 'helps', 'you', 'strive', 'and', 'thrive', 'in', 'this', 'everchanging', 'world', 'view', 'courses', 'postgraduate', 'programmes', 'explore', 'the', 'opportunities', 'to', 'pursue', 'worldclass', 'postgraduate', 'education', 'at', 'rvu', 'to', 'build', 'a', 'solid', 'foundation', 'view', 'courses', 'phd', 'learn', 'more', 'about', 'our', 'diverse', 'phd', 'programmes', 'at', 'rvu', 'and', 'gain', 'a', 'strong', 'academic', 'standing', 'in', 'your', 'subject', 'awardwinning', 'faculty', 'rvu', 'faculty', 'members', 'are', 'highly', 'accomplished', 'individuals', 'with', 'outstanding', 'track', 'record', 'in', 'academics', 'and', 'research', 'their', 'global', 'exposure', 'has', 'contributed', 'to', 'the', 'drafting', 'of', 'a', 'sound', 'syllabus', 'and', 'adoption', 'of', 'an', 'innovative', 'teaching', 'pedagogy', 'all', 'faculty', 'members', 'are', 'committed', 'to', 'providing', 'every', 'student', 'with', 'an', 'impactful', 'learning', 'experience', 'that', 'equips', 'them', 'to', 'excel', 'in', 'their', 'studies', 'wishes', 'to', 'rvu', 'from', 'eminent', 'personalities', 'dr', 'rajiv', 'kumar', 'vice', 'chairman', 'niti', 'aayog', 'national', 'institute', 'for', 'transforming', 'india', 'government', 'of', 'india', '“', 'i', 'am', 'happy', 'to', 'note', 'that', 'rv', 'university', 'aspires', 'to', 'become', 'a', 'world', 'class', 'university', 'with', 'a', 'strong', 'commitment', 'to', 'academic', 'excellence', 'research', 'internationalisation', 'and', 'community', 'engagement', '”', 'study', 'in', 'the', 'multicultural', 'population', 'and', 'progressive', 'attitude', 'of', 'bengaluru', 'make', 'it', 'one', 'of', 'the', 'most', 'contemporary', 'cities', 'for', 'young', 'minds', 'who', 'hope', 'to', 'do', 'things', 'differently', 'come', 'discover', 'what', 'makes', 'this', 'city', 'so', 'special', 'and', 'enjoy', 'the', 'benefits', 'during', 'your', 'study', 'at', 'rvu', 'one', 'of', 'the', 'best', 'colleges', 'in', 'bengaluru', 'contact', 'for', 'general', 'enquiry', 'enquiryrvueduin', 'phone', '91', '95136', '73778', 'for', 'admissions', 'admissionsrvueduin', 'phone', '91', '89511', '79896', 'location', 'rv', 'vidyanikethan', 'post', '8th', 'mile', 'mysuru', 'road', 'bengaluru', '560', '059', 'academics', 'undergraduate', 'programmes', 'postgraduate', 'programmes', 'phd', 'programmes', 'school', 'of', 'liberal', 'arts', 'and', 'sciences', 'school', 'of', 'design', 'and', 'innovation', 'school', 'of', 'economics', 'school', 'of', 'business', 'school', 'of', 'law', 'school', 'of', 'computer', 'science', 'and', 'engineering', 'overview', 'business', 'administration', 'deals', 'with', 'the', 'management', 'of', 'an', 'organization', '’', 's', 'resources', 'and', 'time', 'it', 'plays', 'a', 'pivotal', 'role', 'in', 'ensuring', 'that', 'an', 'organization', 'is', 'run', 'effectively', 'and', 'efficiently', 'an', 'effective', 'business', 'administration', 'needs', 'a', 'combination', 'of', 'qualitative', 'quantitative', 'and', 'soft', 'skills', 'as', 'they', 'deal', 'with', 'a', 'plethora', 'of', 'problems', 'the', 'opportunity', 'to', 'deal', 'with', 'pertinent', 'issues', 'and', 'contribute', 'to', 'practice', 'drives', 'the', 'discipline', 'business', 'administration', 'as', 'a', 'discipline', 'is', 'not', 'bound', 'by', 'existing', 'extant', 'theory', 'however', 'decisions', 'need', 'to', 'be', 'grounded', 'in', 'sound', 'logic', 'which', 'drives', 'the', 'need', 'for', 'a', 'course', 'in', 'business', 'administration', 'a', 'degree', 'in', 'business', 'administration', 'empowers', 'a', 'degree', 'holder', 'with', 'a', 'versatile', 'outlook', 'and', 'surfeit', 'of', 'tools', 'to', 'solve', 'a', 'problem', 'with', 'ingenuity', 'and', 'aplomb', 'such', 'a', 'skillset', 'augurs', 'well', 'for', 'the', 'degree', 'holder', '’', 's', 'future', 'and', 'enables', 'herhim', 'to', 'contribute', 'to', 'the', 'organization', 'and', 'society', 'positively', 'the', 'sob', 'model', 'of', 'holistic', 'education', 'learning', 'at', 'the', 'school', 'of', 'business', 'at', 'rv', 'university', 'focuses', 'on', 'holistic', 'education', 'that', 'creates', 'critical', 'thinking', 'individuals', 'with', 'strong', 'disciplinary', 'understanding', 'broad', 'perspective', 'of', 'issues', 'and', 'problems', 'gained', 'through', 'multiple', 'lenses', 'and', 'handson', 'experiences', 'and', 'skills', 'to', 'take', 'on', 'challenges', 'and', 'solve', 'problems', 'at', 'the', 'workplace', 'and', 'in', 'real', 'life', 'the', 'school', 'strives', 'to', 'provide', 'a', 'space', 'where', 'students', 'are', 'able', 'to', 'pursue', 'their', 'interests', 'satisfy', 'their', 'curiosities', 'and', 'excel', 'in', 'any', 'field', 'they', 'choose', 'to', 'facilitate', 'such', 'an', 'education', 'the', 'curriculum', 'at', 'sob', 'balances', 'theoretical', 'courses', 'with', 'courses', 'that', 'are', 'based', 'on', 'practical', 'applications', 'skills', 'and', 'experiential', 'learning', 'students', 'get', 'the', 'freedom', 'to', 'choose', 'courses', 'from', 'within', 'and', 'outside', 'of', 'their', 'disciplinary', 'boundaries', 'and', 'specialise', 'in', 'areas', 'of', 'their', 'choice', 'students', 'are', 'encouraged', 'to', 'take', 'up', 'research', 'projects', 'and', 'selfstudy', 'to', 'stimulate', 'their', 'critical', 'and', 'analytical', 'abilities', 'and', 'become', 'independent', 'thinkers', 'and', 'practitioners', 'the', 'faculty', 'at', 'sob', 'come', 'with', 'rich', 'experience', 'in', 'teaching', 'research', 'and', 'work', 'experience', 'in', 'different', 'fields', 'of', 'knowledge', 'and', 'industries', 'they', 'bring', 'in', 'their', 'insights', 'from', 'their', 'own', 'experiences', 'into', 'their', 'teaching', 'they', 'are', 'facilitators', 'and', 'mentors', 'who', 'help', 'students', 'to', 'learn', 'from', 'but', 'think', 'outside', 'of', 'textbooks', 'each', 'student', 'who', 'enrols', 'at', 'sob', 'are', 'unique', 'in', 'their', 'potential', 'and', 'the', 'faculty', 'are', 'committed', 'to', 'recognize', 'the', 'uniqueness', 'in', 'each', 'student', 'and', 'nurture', 'them', 'to', 'grow', 'to', 'their', 'full', 'potential', 'school', 'of', 'computer', 'science', 'and', 'engineering', 'gain', 'knowledge', 'essential', 'for', 'getting', 'a', 'better', 'understanding', 'of', 'the', 'real', 'world', 'and', 'comprehend', 'the', 'complex', 'issues', 'that', 'shape', 'today', '’', 's', 'global', 'marketplace', 'home', '»', 'school', 'of', 'computer', 'science', 'and', 'engineering', 'overview', 'the', 'school', 'of', 'computer', 'science', 'and', 'engineering', 'socse', 'focuses', 'on', 'problemsolving', 'critical', 'thinking', 'innovation', 'creativity', 'communication', 'entrepreneurship', 'data', 'science', 'to', 'deal', 'withvuca', 'volatility', 'uncertainty', 'complexity', 'and', 'ambiguity', 'world', 'all', 'programmes', 'of', 'the', 'school', 'offer', 'an', 'opportunity', 'to', 'the', 'students', 'to', 'work', 'closely', 'with', 'all', 'stakeholders', '–', 'industries', 'government', 'policymakers', 'researchers', 'think', 'tanks', 'and', 'global', 'organisations', 'usps', 'focussed', 'on', 'imparting', '21st', 'century', 'skills', 'through', 'experiential', 'holistic', 'learning', 'rather', 'than', 'examoriented', 'rote', 'learning', 'guide', 'on', 'the', 'side', 'model', 'of', 'pedagogy', 'to', 'build', 'impressive', 'portfolios', 'learn', 'and', 'earn', 'from', '2nd', 'semester', 'onwards', '–', 'portfolio', 'building', 'advisory', 'board', 'with', 'eminent', 'academicians', 'industry', 'leaders', 'and', 'entrepreneurs', 'to', 'drive', 'the', 'vision', 'of', 'the', 'department', 'curriculum', 'supports', 'interdisciplinary', 'studies', 'with', 'minors', 'from', 'other', 'schools', 'curriculum', 'includes', 'internships', 'and', 'student', 'exchange', 'programs', 'with', 'foreign', 'universities', 'teaching', 'methodologies', 'we', 'at', 'socse', 'follow', 'a', 'unique', 'approach', 'to', 'teaching', 'and', 'learning', 'focused', 'on', 'imparting', '21st', 'century', 'skills', 'to', 'the', 'students', 'that', 'is', 'grounded', 'in', 'these', 'core', 'ideas', 'experiential', 'learning', 'activity', 'based', 'learning', 'asynchronous', 'courses', 'interdisciplinary', 'minor', 'courses', 'from', 'other', 'schools', 'giving', 'students', 'the', 'choice', 'to', 'pick', 'up', 'other', 'life', 'skills', 'and', 'pursue', 'passions', 'holistic', 'emphasis', 'on', 'life', 'skills', 'and', 'self', 'wellbeing', 'community', 'community', 'based', 'learning', 'designed', 'to', 'set', 'up', 'students', 'to', 'be', 'integrated', 'into', 'the', 'community', 'of', 'their', 'area', 'of', 'passion', 'and', 'interest', 'and', 'set', 'the', 'stage', 'for', 'lifelong', 'learning', 'learner', 'analytics', 'focus', 'on', 'individual', 'plans', 'through', 'portfolio', 'building', 'mastery', 'oriented', 'evaluation', 'these', 'ideas', 'are', 'integrated', 'seamlessly', 'into', 'our', 'flexible', 'curriculum', 'where', 'students', 'can', 'design', 'their', 'own', 'curriculum', 'based', 'on', 'their', 'need', 'and', 'passion', 'from', 'a', 'curated', 'list', 'of', 'courses', 'from', 'four', 'core', 'competency', 'areas', '1', 'engineering', 'foundations', 'engineering', 'exploration', 'exploring', 'sciences', '2', 'minors', 'courses', 'from', 'school', 'of', 'economics', 'school', 'of', 'business', 'school', 'of', 'design', 'and', 'innovation', 'school', 'of', 'liberal', 'arts', 'sciences', 'and', 'school', 'of', 'law', '3', 'specialization', 'and', 'electives', '•', 'ai', 'machine', 'learning', 'and', 'data', 'science', '•', 'full', 'stack', 'application', 'development', 'in', 'cloud•', 'networks', 'iot', 'and', 'cybersecurity', '•', 'product', 'developmentresearchentrepreneurship', '•', 'metaverse', 'arvr', 'and', 'gaming', '4', 'leadership', 'skills', '•', 'entrepreneurship', '•', 'innovation', '•', 'management', '•', 'humanities']\n"
          ]
        }
      ]
    },
    {
      "cell_type": "code",
      "source": [
        "#keywords for greetings\n",
        "greeting_input=[\"hi\",\"hello\",\"hey\",\"hola\"]\n",
        "greeting_response=[\"howdy\",\"hey there\",\"hi\",\"hello :)\"]\n",
        "def greeting(sentence):\n",
        "  for word in sentence.split():\n",
        "    if word.lower() in greeting_input:\n",
        "      return random.choice(greeting_response)"
      ],
      "metadata": {
        "id": "GwmQ98bOt-X9"
      },
      "execution_count": 22,
      "outputs": []
    },
    {
      "cell_type": "code",
      "source": [
        "def response(user_response):\n",
        " #user response and robo responce\n",
        "  #user_response=\"WHat is chronic disease\"\n",
        "  user_response=user_response.lower()\n",
        "  #print(user_response)\n",
        "  #robo response\n",
        "  robo_response=''\n",
        "  sent_tokens.append(user_response)\n",
        "  #print(sent_tokens)\n",
        "  tfidfvec=TfidfVectorizer(tokenizer=LemNormalize , stop_words='english')\n",
        "  tfidf=tfidfvec.fit_transform(sent_tokens)\n",
        "  #print(tfidf)\n",
        "  #get similarity score\n",
        "  val=cosine_similarity(tfidf[-1],tfidf)\n",
        "  #print(val)\n",
        "  idx=val.argsort()[0][-2]\n",
        "  flat=val.flatten()\n",
        "  flat.sort()\n",
        "  score=flat[-2]\n",
        "  #print(score)\n",
        "  if score==0:\n",
        "    robo_response=robo_response+\"sorry,i dont understand\"\n",
        "  else:\n",
        "    robo_response=robo_response+sent_tokens[idx]\n",
        "\n",
        "  sent_tokens.remove(user_response)\n",
        "  return robo_response"
      ],
      "metadata": {
        "id": "iyJCddt7t-ff"
      },
      "execution_count": 23,
      "outputs": []
    },
    {
      "cell_type": "code",
      "source": [
        "greeting_input=[\"hi\",\"hello\",\"hey\",\"hola\"]\n",
        "greeting_response=[\"howdy\",\"hey there\",\"hi\",\"hello :)\"]\n",
        "def greeting(sentence):\n",
        "  for word in sentence.split():\n",
        "    if word.lower() in greeting_input:\n",
        "      return random.choice(greeting_response)\n",
        "flag=True\n",
        "print(\"hello!!! this is VIPbot,i can answer your queris related to RVU ,type bye to exit\")\n",
        "while(flag==True):\n",
        "  user_response=input(\"cherry:\")\n",
        "  #user_response=user_response.lower()\n",
        "  if(user_response!='bye'):\n",
        "    if(user_response=='thanks' or user_response=='thank you'):\n",
        "      flag=False\n",
        "      print(\"madmax: anytime :)\")\n",
        "    else:\n",
        "       if( greeting(user_response) != None):\n",
        "         print(\"madmax: \"+ greeting(user_response))\n",
        "       else:\n",
        "         print(\"madmax:\"+response(user_response))\n",
        "  else:\n",
        "    flag=False\n",
        "    print(\"madmax: see you later :)\")"
      ],
      "metadata": {
        "colab": {
          "base_uri": "https://localhost:8080/"
        },
        "id": "XmOVbgnlt-ho",
        "outputId": "379f205f-f30c-4e4e-98c1-116ef0db74d0"
      },
      "execution_count": 24,
      "outputs": [
        {
          "output_type": "stream",
          "name": "stdout",
          "text": [
            "hello!!! this is VIPbot,i can answer your queris related to RVU ,type bye to exit\n",
            "cherry:hello, im vipul\n",
            "madmax:sorry,i dont understand\n",
            "cherry:hello\n",
            "madmax: howdy\n",
            "cherry:which is best university in bengaluru?\n",
            "madmax:Come, discover what makes this city so special and enjoy the benefits during your study at RVU, one of the best colleges in Bengaluru.\n",
            "cherry:what are the courses in rvu?\n",
            "madmax:Asynchronous courses.\n",
            "cherry:how many courses are in rv university?\n",
            "madmax:[10][11]\n",
            "\n",
            "History\n",
            "RV University is a state-private university established under the RV University Act 2019 and is approved by UGC (University Grants Commission) and Karnataka State Government.\n",
            "cherry:thanks\n",
            "madmax: anytime :)\n"
          ]
        }
      ]
    },
    {
      "cell_type": "code",
      "source": [
        "#other approach\n",
        "import random\n",
        "import string\n",
        "import nltk\n",
        "import numpy as np\n",
        "from sklearn.feature_extraction.text import TfidfVectorizer\n",
        "from sklearn.metrics.pairwise import cosine_similarity\n",
        "from textblob import TextBlob\n",
        "import spacy\n",
        "\n",
        "# Ignore the warnings\n",
        "warnings.filterwarnings('ignore')\n",
        "\n",
        "# Download packages from nltk\n",
        "nltk.download('punkt', quiet=True)\n",
        "nltk.download('wordnet', quiet=True)\n",
        "nltk.download('omw-1.4', quiet=True)\n",
        "\n",
        "# Read data from file\n",
        "f = open('/content/data.txt', 'r', errors='ignore')\n",
        "raw_doc = f.read()\n",
        "\n",
        "# Tokenization\n",
        "text = raw_doc\n",
        "sent_tokens = nltk.sent_tokenize(text)\n",
        "\n",
        "# Create a dictionary to remove the punctuation\n",
        "remove_punct_dict = dict((ord(punct), None) for punct in string.punctuation)\n",
        "\n",
        "# Create a function to return lower case words\n",
        "def LemNormalize(text):\n",
        "    return nltk.word_tokenize(text.lower().translate(remove_punct_dict))\n",
        "\n",
        "# Keywords for greetings\n",
        "greeting_input = [\"hi\", \"hello\", \"hey\", \"hola\"]\n",
        "greeting_response = [\"howdy\", \"hey there\", \"hi\", \"hello :)\"]\n",
        "\n",
        "def greeting(sentence):\n",
        "    for word in sentence.split():\n",
        "        if word.lower() in greeting_input:\n",
        "            return random.choice(greeting_response)\n",
        "\n",
        "def predict_intent(user_input):\n",
        "    # Implement your intent recognition model here\n",
        "    # Return the predicted intent based on user_input\n",
        "    # For simplicity, let's assume it returns 'information' for now\n",
        "    return 'information'\n",
        "\n",
        "def get_sentiment(user_input):\n",
        "    analysis = TextBlob(user_input)\n",
        "    sentiment_score = analysis.sentiment.polarity\n",
        "\n",
        "    if sentiment_score >= 0:\n",
        "        return \"positive\"\n",
        "    else:\n",
        "        return \"negative\"\n",
        "\n",
        "def extract_named_entities(user_input):\n",
        "    nlp = spacy.load(\"en_core_web_sm\")\n",
        "    doc = nlp(user_input)\n",
        "    named_entities = [ent.text for ent in doc.ents]\n",
        "    return named_entities\n",
        "\n",
        "def response(user_response):\n",
        "    user_response = user_response.lower()\n",
        "\n",
        "    # Check for intent and sentiment of the user's input\n",
        "    user_intent = predict_intent(user_response)\n",
        "    user_sentiment = get_sentiment(user_response)\n",
        "\n",
        "    # Update greeting_response based on sentiment\n",
        "    if user_sentiment == \"positive\":\n",
        "        greeting_response = [\"How can I assist you?\", \"Feel free to ask any questions.\", \"I'm here to help!\"]\n",
        "    else:\n",
        "        greeting_response = [\"Is there anything I can do to improve your experience?\", \"I apologize if I sound off. Please ask your question.\"]\n",
        "\n",
        "    if greeting(user_response) is not None:\n",
        "        return random.choice(greeting_response)\n",
        "\n",
        "    robo_response = ''\n",
        "    sent_tokens.append(user_response)\n",
        "\n",
        "    # TF-IDF vectorization\n",
        "    tfidfvec = TfidfVectorizer(tokenizer=LemNormalize, stop_words='english')\n",
        "    tfidf = tfidfvec.fit_transform(sent_tokens)\n",
        "\n",
        "    # Get similarity score\n",
        "    val = cosine_similarity(tfidf[-1], tfidf)\n",
        "    idx = val.argsort()[0][-2]\n",
        "    flat = val.flatten()\n",
        "    flat.sort()\n",
        "    score = flat[-2]\n",
        "\n",
        "    if score == 0:\n",
        "        robo_response = robo_response + \"Sorry, I don't understand.\"\n",
        "    else:\n",
        "        robo_response = robo_response + sent_tokens[idx]\n",
        "\n",
        "    sent_tokens.remove(user_response)\n",
        "    return robo_response\n",
        "\n",
        "# Initialize Q-learning table\n",
        "Q = np.zeros((len(sent_tokens), len(sent_tokens)))\n",
        "\n",
        "def get_next_state(curr_state):\n",
        "    # Implement a function to get the next state using Q-learning\n",
        "    # For simplicity, let's randomly select the next state for now\n",
        "    return random.randint(0, len(sent_tokens) - 1)\n",
        "\n",
        "def update_q_table(curr_state, next_state, reward, learning_rate, discount_factor):\n",
        "    # Implement Q-learning update rule\n",
        "    # For simplicity, let's use a basic Q-learning update\n",
        "    Q[curr_state, next_state] = Q[curr_state, next_state] + learning_rate * (reward + discount_factor * np.max(Q[next_state, :]) - Q[curr_state, next_state])\n",
        "\n",
        "flag = True\n",
        "print(\"Hello!!! This is VIPbot. I can answer your queries related to RVU. Type 'bye' to exit.\")\n",
        "\n",
        "while flag:\n",
        "    user_response = input(\"You: \")\n",
        "\n",
        "    if user_response.lower() != 'bye':\n",
        "        if user_response.lower() == 'thanks' or user_response.lower() == 'thank you':\n",
        "            flag = False\n",
        "            print(\"VIPbot: You're welcome! Feel free to come back anytime. :)\")\n",
        "        else:\n",
        "            robo_response = response(user_response)\n",
        "            print(\"VIPbot: \" + robo_response)\n",
        "\n",
        "            # Obtain the next state using Q-learning\n",
        "            next_state = get_next_state(len(sent_tokens) - 1)\n",
        "\n",
        "            # Calculate reward (for simplicity, let's assume a reward of 1 for a meaningful response and 0 otherwise)\n",
        "            reward = 1 if robo_response != \"Sorry, I don't understand.\" else 0\n",
        "\n",
        "            # Update Q-learning table\n",
        "            learning_rate = 0.1\n",
        "            discount_factor = 0.9\n",
        "            update_q_table(len(sent_tokens) - 1, next_state, reward, learning_rate, discount_factor)\n",
        "    else:\n",
        "        flag = False\n",
        "        print(\"VIPbot: See you later. Have a great day! :)\")\n"
      ],
      "metadata": {
        "colab": {
          "base_uri": "https://localhost:8080/"
        },
        "id": "vlVhyxapFqzg",
        "outputId": "31d9d079-9a49-4f77-f438-e89b45c783dd"
      },
      "execution_count": 35,
      "outputs": [
        {
          "output_type": "stream",
          "name": "stdout",
          "text": [
            "Hello!!! This is VIPbot. I can answer your queries related to RVU. Type 'bye' to exit.\n",
            "You: hello\n",
            "VIPbot: How can I assist you?\n",
            "You: which college should i join?\n",
            "VIPbot: RV University is one of the parent institutes which come under Rashtreeya Sikshana Samithi Trust which also manages RV College of Engineering.\n",
            "You: where is it located?\n",
            "VIPbot: RV University is a state-private university located in Bangalore, Karnataka, India.\n",
            "You: how to contact rv university?\n",
            "VIPbot: [10][11]\n",
            "\n",
            "History\n",
            "RV University is a state-private university established under the RV University Act 2019 and is approved by UGC (University Grants Commission) and Karnataka State Government.\n",
            "You: this is not the correct response\n",
            "VIPbot: Sorry, I don't understand.\n",
            "You: contact of rv university\n",
            "VIPbot: [10][11]\n",
            "\n",
            "History\n",
            "RV University is a state-private university established under the RV University Act 2019 and is approved by UGC (University Grants Commission) and Karnataka State Government.\n",
            "You: wrong\n",
            "VIPbot: Sorry, I don't understand.\n",
            "You: what are other names of rv university\n",
            "VIPbot: [10][11]\n",
            "\n",
            "History\n",
            "RV University is a state-private university established under the RV University Act 2019 and is approved by UGC (University Grants Commission) and Karnataka State Government.\n",
            "You: rvsat\n",
            "VIPbot: [14][15][16]\n",
            "\n",
            "School of Liberal Arts and Sciences\n",
            "School of Design and Innovation\n",
            "School of Film, Media and Creative Arts\n",
            "School of Computer Science and Engineering\n",
            "School of Economics\n",
            "School of Business\n",
            "School of Law[17]\n",
            "\n",
            "Admission\n",
            "RVU admits students based on RVSAT (RV Scholastic Admission Test is the national-level entrance exam) and RVU Selection Process for all UG, PG and PhD Programmes[18] of RV University.\n",
            "You: thanks\n",
            "VIPbot: You're welcome! Feel free to come back anytime. :)\n"
          ]
        }
      ]
    },
    {
      "cell_type": "code",
      "source": [],
      "metadata": {
        "id": "W5HANynEFq2W"
      },
      "execution_count": null,
      "outputs": []
    },
    {
      "cell_type": "code",
      "source": [],
      "metadata": {
        "id": "XDiZXL7NFq5k"
      },
      "execution_count": null,
      "outputs": []
    },
    {
      "cell_type": "code",
      "source": [],
      "metadata": {
        "id": "-xBdN9xJt-kp"
      },
      "execution_count": null,
      "outputs": []
    },
    {
      "cell_type": "code",
      "source": [],
      "metadata": {
        "id": "4VBS3Nlnt-oB"
      },
      "execution_count": null,
      "outputs": []
    },
    {
      "cell_type": "code",
      "source": [
        "pip install torch"
      ],
      "metadata": {
        "colab": {
          "base_uri": "https://localhost:8080/"
        },
        "id": "rpgQrCrOxtA_",
        "outputId": "d3924757-3adb-4b68-88bf-4496ad5b76b9"
      },
      "execution_count": 28,
      "outputs": [
        {
          "output_type": "stream",
          "name": "stdout",
          "text": [
            "Requirement already satisfied: torch in /usr/local/lib/python3.10/dist-packages (2.0.1+cu118)\n",
            "Requirement already satisfied: filelock in /usr/local/lib/python3.10/dist-packages (from torch) (3.12.2)\n",
            "Requirement already satisfied: typing-extensions in /usr/local/lib/python3.10/dist-packages (from torch) (4.7.1)\n",
            "Requirement already satisfied: sympy in /usr/local/lib/python3.10/dist-packages (from torch) (1.11.1)\n",
            "Requirement already satisfied: networkx in /usr/local/lib/python3.10/dist-packages (from torch) (3.1)\n",
            "Requirement already satisfied: jinja2 in /usr/local/lib/python3.10/dist-packages (from torch) (3.1.2)\n",
            "Requirement already satisfied: triton==2.0.0 in /usr/local/lib/python3.10/dist-packages (from torch) (2.0.0)\n",
            "Requirement already satisfied: cmake in /usr/local/lib/python3.10/dist-packages (from triton==2.0.0->torch) (3.25.2)\n",
            "Requirement already satisfied: lit in /usr/local/lib/python3.10/dist-packages (from triton==2.0.0->torch) (16.0.6)\n",
            "Requirement already satisfied: MarkupSafe>=2.0 in /usr/local/lib/python3.10/dist-packages (from jinja2->torch) (2.1.3)\n",
            "Requirement already satisfied: mpmath>=0.19 in /usr/local/lib/python3.10/dist-packages (from sympy->torch) (1.3.0)\n"
          ]
        }
      ]
    },
    {
      "cell_type": "code",
      "source": [
        "pip install transformers"
      ],
      "metadata": {
        "colab": {
          "base_uri": "https://localhost:8080/"
        },
        "id": "Tu5lPNe4xtEh",
        "outputId": "23c545eb-bc19-4498-e334-90062a9231d9"
      },
      "execution_count": 26,
      "outputs": [
        {
          "output_type": "stream",
          "name": "stdout",
          "text": [
            "Collecting transformers\n",
            "  Downloading transformers-4.31.0-py3-none-any.whl (7.4 MB)\n",
            "\u001b[2K     \u001b[90m━━━━━━━━━━━━━━━━━━━━━━━━━━━━━━━━━━━━━━━━\u001b[0m \u001b[32m7.4/7.4 MB\u001b[0m \u001b[31m38.0 MB/s\u001b[0m eta \u001b[36m0:00:00\u001b[0m\n",
            "\u001b[?25hRequirement already satisfied: filelock in /usr/local/lib/python3.10/dist-packages (from transformers) (3.12.2)\n",
            "Collecting huggingface-hub<1.0,>=0.14.1 (from transformers)\n",
            "  Downloading huggingface_hub-0.16.4-py3-none-any.whl (268 kB)\n",
            "\u001b[2K     \u001b[90m━━━━━━━━━━━━━━━━━━━━━━━━━━━━━━━━━━━━━━\u001b[0m \u001b[32m268.8/268.8 kB\u001b[0m \u001b[31m21.2 MB/s\u001b[0m eta \u001b[36m0:00:00\u001b[0m\n",
            "\u001b[?25hRequirement already satisfied: numpy>=1.17 in /usr/local/lib/python3.10/dist-packages (from transformers) (1.22.4)\n",
            "Requirement already satisfied: packaging>=20.0 in /usr/local/lib/python3.10/dist-packages (from transformers) (23.1)\n",
            "Requirement already satisfied: pyyaml>=5.1 in /usr/local/lib/python3.10/dist-packages (from transformers) (6.0.1)\n",
            "Requirement already satisfied: regex!=2019.12.17 in /usr/local/lib/python3.10/dist-packages (from transformers) (2022.10.31)\n",
            "Requirement already satisfied: requests in /usr/local/lib/python3.10/dist-packages (from transformers) (2.27.1)\n",
            "Collecting tokenizers!=0.11.3,<0.14,>=0.11.1 (from transformers)\n",
            "  Downloading tokenizers-0.13.3-cp310-cp310-manylinux_2_17_x86_64.manylinux2014_x86_64.whl (7.8 MB)\n",
            "\u001b[2K     \u001b[90m━━━━━━━━━━━━━━━━━━━━━━━━━━━━━━━━━━━━━━━━\u001b[0m \u001b[32m7.8/7.8 MB\u001b[0m \u001b[31m49.5 MB/s\u001b[0m eta \u001b[36m0:00:00\u001b[0m\n",
            "\u001b[?25hCollecting safetensors>=0.3.1 (from transformers)\n",
            "  Downloading safetensors-0.3.1-cp310-cp310-manylinux_2_17_x86_64.manylinux2014_x86_64.whl (1.3 MB)\n",
            "\u001b[2K     \u001b[90m━━━━━━━━━━━━━━━━━━━━━━━━━━━━━━━━━━━━━━━━\u001b[0m \u001b[32m1.3/1.3 MB\u001b[0m \u001b[31m56.7 MB/s\u001b[0m eta \u001b[36m0:00:00\u001b[0m\n",
            "\u001b[?25hRequirement already satisfied: tqdm>=4.27 in /usr/local/lib/python3.10/dist-packages (from transformers) (4.65.0)\n",
            "Requirement already satisfied: fsspec in /usr/local/lib/python3.10/dist-packages (from huggingface-hub<1.0,>=0.14.1->transformers) (2023.6.0)\n",
            "Requirement already satisfied: typing-extensions>=3.7.4.3 in /usr/local/lib/python3.10/dist-packages (from huggingface-hub<1.0,>=0.14.1->transformers) (4.7.1)\n",
            "Requirement already satisfied: urllib3<1.27,>=1.21.1 in /usr/local/lib/python3.10/dist-packages (from requests->transformers) (1.26.16)\n",
            "Requirement already satisfied: certifi>=2017.4.17 in /usr/local/lib/python3.10/dist-packages (from requests->transformers) (2023.7.22)\n",
            "Requirement already satisfied: charset-normalizer~=2.0.0 in /usr/local/lib/python3.10/dist-packages (from requests->transformers) (2.0.12)\n",
            "Requirement already satisfied: idna<4,>=2.5 in /usr/local/lib/python3.10/dist-packages (from requests->transformers) (3.4)\n",
            "Installing collected packages: tokenizers, safetensors, huggingface-hub, transformers\n",
            "Successfully installed huggingface-hub-0.16.4 safetensors-0.3.1 tokenizers-0.13.3 transformers-4.31.0\n"
          ]
        }
      ]
    },
    {
      "cell_type": "code",
      "source": [
        "pip install openai\n"
      ],
      "metadata": {
        "colab": {
          "base_uri": "https://localhost:8080/"
        },
        "id": "jmBwbPgOFOSC",
        "outputId": "a399eeec-e595-47c7-d57b-28d27fbbb678"
      },
      "execution_count": 32,
      "outputs": [
        {
          "output_type": "stream",
          "name": "stdout",
          "text": [
            "Collecting openai\n",
            "  Downloading openai-0.27.8-py3-none-any.whl (73 kB)\n",
            "\u001b[?25l     \u001b[90m━━━━━━━━━━━━━━━━━━━━━━━━━━━━━━━━━━━━━━━━\u001b[0m \u001b[32m0.0/73.6 kB\u001b[0m \u001b[31m?\u001b[0m eta \u001b[36m-:--:--\u001b[0m\r\u001b[2K     \u001b[91m━━━━━━━━━━━━━━━━━━━━━━━━━━━━━━━━━\u001b[0m\u001b[90m╺\u001b[0m\u001b[90m━━━━━━\u001b[0m \u001b[32m61.4/73.6 kB\u001b[0m \u001b[31m1.9 MB/s\u001b[0m eta \u001b[36m0:00:01\u001b[0m\r\u001b[2K     \u001b[90m━━━━━━━━━━━━━━━━━━━━━━━━━━━━━━━━━━━━━━━━\u001b[0m \u001b[32m73.6/73.6 kB\u001b[0m \u001b[31m1.5 MB/s\u001b[0m eta \u001b[36m0:00:00\u001b[0m\n",
            "\u001b[?25hRequirement already satisfied: requests>=2.20 in /usr/local/lib/python3.10/dist-packages (from openai) (2.27.1)\n",
            "Requirement already satisfied: tqdm in /usr/local/lib/python3.10/dist-packages (from openai) (4.65.0)\n",
            "Requirement already satisfied: aiohttp in /usr/local/lib/python3.10/dist-packages (from openai) (3.8.5)\n",
            "Requirement already satisfied: urllib3<1.27,>=1.21.1 in /usr/local/lib/python3.10/dist-packages (from requests>=2.20->openai) (1.26.16)\n",
            "Requirement already satisfied: certifi>=2017.4.17 in /usr/local/lib/python3.10/dist-packages (from requests>=2.20->openai) (2023.7.22)\n",
            "Requirement already satisfied: charset-normalizer~=2.0.0 in /usr/local/lib/python3.10/dist-packages (from requests>=2.20->openai) (2.0.12)\n",
            "Requirement already satisfied: idna<4,>=2.5 in /usr/local/lib/python3.10/dist-packages (from requests>=2.20->openai) (3.4)\n",
            "Requirement already satisfied: attrs>=17.3.0 in /usr/local/lib/python3.10/dist-packages (from aiohttp->openai) (23.1.0)\n",
            "Requirement already satisfied: multidict<7.0,>=4.5 in /usr/local/lib/python3.10/dist-packages (from aiohttp->openai) (6.0.4)\n",
            "Requirement already satisfied: async-timeout<5.0,>=4.0.0a3 in /usr/local/lib/python3.10/dist-packages (from aiohttp->openai) (4.0.2)\n",
            "Requirement already satisfied: yarl<2.0,>=1.0 in /usr/local/lib/python3.10/dist-packages (from aiohttp->openai) (1.9.2)\n",
            "Requirement already satisfied: frozenlist>=1.1.1 in /usr/local/lib/python3.10/dist-packages (from aiohttp->openai) (1.4.0)\n",
            "Requirement already satisfied: aiosignal>=1.1.2 in /usr/local/lib/python3.10/dist-packages (from aiohttp->openai) (1.3.1)\n",
            "Installing collected packages: openai\n",
            "Successfully installed openai-0.27.8\n"
          ]
        }
      ]
    },
    {
      "cell_type": "code",
      "execution_count": 1,
      "metadata": {
        "colab": {
          "base_uri": "https://localhost:8080/"
        },
        "id": "d74tf0HgrUs9",
        "outputId": "09fd99d9-6976-4469-a391-2b0909711312"
      },
      "outputs": [
        {
          "output_type": "stream",
          "name": "stdout",
          "text": [
            "Requirement already satisfied: nltk in /usr/local/lib/python3.10/dist-packages (3.8.1)\n",
            "Requirement already satisfied: click in /usr/local/lib/python3.10/dist-packages (from nltk) (8.1.6)\n",
            "Requirement already satisfied: joblib in /usr/local/lib/python3.10/dist-packages (from nltk) (1.3.1)\n",
            "Requirement already satisfied: regex>=2021.8.3 in /usr/local/lib/python3.10/dist-packages (from nltk) (2022.10.31)\n",
            "Requirement already satisfied: tqdm in /usr/local/lib/python3.10/dist-packages (from nltk) (4.65.0)\n"
          ]
        }
      ],
      "source": [
        "pip install nltk"
      ]
    },
    {
      "cell_type": "code",
      "source": [
        "pip install newspaper3k"
      ],
      "metadata": {
        "colab": {
          "base_uri": "https://localhost:8080/"
        },
        "id": "HAfSj86crYrD",
        "outputId": "64ce0bfe-8496-4618-ab6d-af6a1b0ee214"
      },
      "execution_count": 2,
      "outputs": [
        {
          "output_type": "stream",
          "name": "stdout",
          "text": [
            "Collecting newspaper3k\n",
            "  Downloading newspaper3k-0.2.8-py3-none-any.whl (211 kB)\n",
            "\u001b[2K     \u001b[90m━━━━━━━━━━━━━━━━━━━━━━━━━━━━━━━━━━━━━━━\u001b[0m \u001b[32m211.1/211.1 kB\u001b[0m \u001b[31m2.1 MB/s\u001b[0m eta \u001b[36m0:00:00\u001b[0m\n",
            "\u001b[?25hRequirement already satisfied: beautifulsoup4>=4.4.1 in /usr/local/lib/python3.10/dist-packages (from newspaper3k) (4.11.2)\n",
            "Requirement already satisfied: Pillow>=3.3.0 in /usr/local/lib/python3.10/dist-packages (from newspaper3k) (9.4.0)\n",
            "Requirement already satisfied: PyYAML>=3.11 in /usr/local/lib/python3.10/dist-packages (from newspaper3k) (6.0.1)\n",
            "Collecting cssselect>=0.9.2 (from newspaper3k)\n",
            "  Downloading cssselect-1.2.0-py2.py3-none-any.whl (18 kB)\n",
            "Requirement already satisfied: lxml>=3.6.0 in /usr/local/lib/python3.10/dist-packages (from newspaper3k) (4.9.3)\n",
            "Requirement already satisfied: nltk>=3.2.1 in /usr/local/lib/python3.10/dist-packages (from newspaper3k) (3.8.1)\n",
            "Requirement already satisfied: requests>=2.10.0 in /usr/local/lib/python3.10/dist-packages (from newspaper3k) (2.27.1)\n",
            "Collecting feedparser>=5.2.1 (from newspaper3k)\n",
            "  Downloading feedparser-6.0.10-py3-none-any.whl (81 kB)\n",
            "\u001b[2K     \u001b[90m━━━━━━━━━━━━━━━━━━━━━━━━━━━━━━━━━━━━━━━━\u001b[0m \u001b[32m81.1/81.1 kB\u001b[0m \u001b[31m9.4 MB/s\u001b[0m eta \u001b[36m0:00:00\u001b[0m\n",
            "\u001b[?25hCollecting tldextract>=2.0.1 (from newspaper3k)\n",
            "  Downloading tldextract-3.4.4-py3-none-any.whl (93 kB)\n",
            "\u001b[2K     \u001b[90m━━━━━━━━━━━━━━━━━━━━━━━━━━━━━━━━━━━━━━━━\u001b[0m \u001b[32m93.3/93.3 kB\u001b[0m \u001b[31m8.8 MB/s\u001b[0m eta \u001b[36m0:00:00\u001b[0m\n",
            "\u001b[?25hCollecting feedfinder2>=0.0.4 (from newspaper3k)\n",
            "  Downloading feedfinder2-0.0.4.tar.gz (3.3 kB)\n",
            "  Preparing metadata (setup.py) ... \u001b[?25l\u001b[?25hdone\n",
            "Collecting jieba3k>=0.35.1 (from newspaper3k)\n",
            "  Downloading jieba3k-0.35.1.zip (7.4 MB)\n",
            "\u001b[2K     \u001b[90m━━━━━━━━━━━━━━━━━━━━━━━━━━━━━━━━━━━━━━━━\u001b[0m \u001b[32m7.4/7.4 MB\u001b[0m \u001b[31m64.7 MB/s\u001b[0m eta \u001b[36m0:00:00\u001b[0m\n",
            "\u001b[?25h  Preparing metadata (setup.py) ... \u001b[?25l\u001b[?25hdone\n",
            "Requirement already satisfied: python-dateutil>=2.5.3 in /usr/local/lib/python3.10/dist-packages (from newspaper3k) (2.8.2)\n",
            "Collecting tinysegmenter==0.3 (from newspaper3k)\n",
            "  Downloading tinysegmenter-0.3.tar.gz (16 kB)\n",
            "  Preparing metadata (setup.py) ... \u001b[?25l\u001b[?25hdone\n",
            "Requirement already satisfied: soupsieve>1.2 in /usr/local/lib/python3.10/dist-packages (from beautifulsoup4>=4.4.1->newspaper3k) (2.4.1)\n",
            "Requirement already satisfied: six in /usr/local/lib/python3.10/dist-packages (from feedfinder2>=0.0.4->newspaper3k) (1.16.0)\n",
            "Collecting sgmllib3k (from feedparser>=5.2.1->newspaper3k)\n",
            "  Downloading sgmllib3k-1.0.0.tar.gz (5.8 kB)\n",
            "  Preparing metadata (setup.py) ... \u001b[?25l\u001b[?25hdone\n",
            "Requirement already satisfied: click in /usr/local/lib/python3.10/dist-packages (from nltk>=3.2.1->newspaper3k) (8.1.6)\n",
            "Requirement already satisfied: joblib in /usr/local/lib/python3.10/dist-packages (from nltk>=3.2.1->newspaper3k) (1.3.1)\n",
            "Requirement already satisfied: regex>=2021.8.3 in /usr/local/lib/python3.10/dist-packages (from nltk>=3.2.1->newspaper3k) (2022.10.31)\n",
            "Requirement already satisfied: tqdm in /usr/local/lib/python3.10/dist-packages (from nltk>=3.2.1->newspaper3k) (4.65.0)\n",
            "Requirement already satisfied: urllib3<1.27,>=1.21.1 in /usr/local/lib/python3.10/dist-packages (from requests>=2.10.0->newspaper3k) (1.26.16)\n",
            "Requirement already satisfied: certifi>=2017.4.17 in /usr/local/lib/python3.10/dist-packages (from requests>=2.10.0->newspaper3k) (2023.7.22)\n",
            "Requirement already satisfied: charset-normalizer~=2.0.0 in /usr/local/lib/python3.10/dist-packages (from requests>=2.10.0->newspaper3k) (2.0.12)\n",
            "Requirement already satisfied: idna<4,>=2.5 in /usr/local/lib/python3.10/dist-packages (from requests>=2.10.0->newspaper3k) (3.4)\n",
            "Collecting requests-file>=1.4 (from tldextract>=2.0.1->newspaper3k)\n",
            "  Downloading requests_file-1.5.1-py2.py3-none-any.whl (3.7 kB)\n",
            "Requirement already satisfied: filelock>=3.0.8 in /usr/local/lib/python3.10/dist-packages (from tldextract>=2.0.1->newspaper3k) (3.12.2)\n",
            "Building wheels for collected packages: tinysegmenter, feedfinder2, jieba3k, sgmllib3k\n",
            "  Building wheel for tinysegmenter (setup.py) ... \u001b[?25l\u001b[?25hdone\n",
            "  Created wheel for tinysegmenter: filename=tinysegmenter-0.3-py3-none-any.whl size=13539 sha256=ac003de4241996add2554fc614c7aeb8180040330530dcbd33577064ea28e5d9\n",
            "  Stored in directory: /root/.cache/pip/wheels/c8/d6/6c/384f58df48c00b9a31d638005143b5b3ac62c3d25fb1447f23\n",
            "  Building wheel for feedfinder2 (setup.py) ... \u001b[?25l\u001b[?25hdone\n",
            "  Created wheel for feedfinder2: filename=feedfinder2-0.0.4-py3-none-any.whl size=3339 sha256=45112e5af4101bb189c3b999f68077638649b2e60c0b792601e77814e49cdac8\n",
            "  Stored in directory: /root/.cache/pip/wheels/97/02/e7/a1ff1760e12bdbaab0ac824fae5c1bc933e41c4ccd6a8f8edb\n",
            "  Building wheel for jieba3k (setup.py) ... \u001b[?25l\u001b[?25hdone\n",
            "  Created wheel for jieba3k: filename=jieba3k-0.35.1-py3-none-any.whl size=7398380 sha256=ba2987f314bf25ffaf0f8962cec601b4db8d5db700e7c82bd6dca8d16e918b25\n",
            "  Stored in directory: /root/.cache/pip/wheels/7a/c4/0c/12a9a314ecac499456c4c3b2fcc2f635a3b45a39dfbd240299\n",
            "  Building wheel for sgmllib3k (setup.py) ... \u001b[?25l\u001b[?25hdone\n",
            "  Created wheel for sgmllib3k: filename=sgmllib3k-1.0.0-py3-none-any.whl size=6047 sha256=42511c0cfe195a25957e0a464e855c29ac821578c5909ee33ea49f1b8a445cca\n",
            "  Stored in directory: /root/.cache/pip/wheels/f0/69/93/a47e9d621be168e9e33c7ce60524393c0b92ae83cf6c6e89c5\n",
            "Successfully built tinysegmenter feedfinder2 jieba3k sgmllib3k\n",
            "Installing collected packages: tinysegmenter, sgmllib3k, jieba3k, feedparser, cssselect, requests-file, feedfinder2, tldextract, newspaper3k\n",
            "Successfully installed cssselect-1.2.0 feedfinder2-0.0.4 feedparser-6.0.10 jieba3k-0.35.1 newspaper3k-0.2.8 requests-file-1.5.1 sgmllib3k-1.0.0 tinysegmenter-0.3 tldextract-3.4.4\n"
          ]
        }
      ]
    }
  ]
}